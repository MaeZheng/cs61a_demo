{
 "cells": [
  {
   "cell_type": "markdown",
   "metadata": {},
   "source": [
    "# Regex\n",
    "Do you ever wish you could find something without specifying exactly what it is?\n",
    "\n",
    "Take a look at ppl_data.txt; in the cells that follow, we will be extracting information from it"
   ]
  },
  {
   "cell_type": "markdown",
   "metadata": {},
   "source": [
    "\"A regular expression, regex or regexp is, in theoretical computer science and formal language theory, a sequence of characters that define a search pattern. Usually this pattern is then used by string searching algorithms for \"find\" or \"find and replace\" operations on strings.\" - [Wiki](https://en.wikipedia.org/wiki/Regular_expression)\n",
    "\n",
    "Consult [this](https://www.debuggex.com/cheatsheet/regex/python) for what expressions to use!"
   ]
  },
  {
   "cell_type": "markdown",
   "metadata": {},
   "source": [
    "## Imports"
   ]
  },
  {
   "cell_type": "code",
   "execution_count": null,
   "metadata": {},
   "outputs": [],
   "source": [
    "import re # import the regex module (No need for pip!)"
   ]
  },
  {
   "cell_type": "markdown",
   "metadata": {},
   "source": [
    "## Passwords\n",
    "Here we are interested in getting the password of all individuals whose title is Mr"
   ]
  },
  {
   "cell_type": "code",
   "execution_count": null,
   "metadata": {},
   "outputs": [],
   "source": [
    "file = open('ppl_data.txt')\n",
    "lines = file.readlines()\n",
    "file_string = ''.join(lines) # turn the file into one huge string"
   ]
  },
  {
   "cell_type": "code",
   "execution_count": null,
   "metadata": {},
   "outputs": [],
   "source": [
    "matches = re.findall(r\"Mr.*psd:(.*) phone\", file_string)\n",
    "first_three_psd = matches[:3]\n",
    "print(\"Match:\", first_three_psd)"
   ]
  },
  {
   "cell_type": "markdown",
   "metadata": {},
   "source": [
    "What regex did we use exactly?\n",
    "\n",
    "We used `Mr.*psd:(.*) phone`\n",
    "\n",
    "`Mr` matches with `Mr`, `.*` matches with any amount of anything except newline, `psd:` matches with `psd:`, and so on\n",
    "\n",
    "Note the parenthesis around the second `.*`, this is so we can keep what is within as part of a group that gets returned"
   ]
  },
  {
   "cell_type": "markdown",
   "metadata": {},
   "source": [
    "#### Passwords, with First Names (grouping)"
   ]
  },
  {
   "cell_type": "markdown",
   "metadata": {},
   "source": [
    "Grouping is a way to access certain portions of what was matched.\n",
    "\n",
    "All you have to do is put parenthesis around what you want to be in a group. \n",
    "\n",
    "Make sure what is in a group is exactly what you want!"
   ]
  },
  {
   "cell_type": "code",
   "execution_count": null,
   "metadata": {},
   "outputs": [],
   "source": [
    "matches_w_name = re.findall(r\"Mr ([A-Za-z]{1,12}).*psd:(.*) phone\", file_string)\n",
    "first_three_w_name_psd = matches_w_name[:3]\n",
    "print(\"Match:\", first_three_w_name_psd)"
   ]
  },
  {
   "cell_type": "code",
   "execution_count": null,
   "metadata": {},
   "outputs": [],
   "source": [
    "for name, psd in first_three_w_name_psd:\n",
    "    print(\"Name: {},\".format(name),\"Password: {}\".format(psd))"
   ]
  },
  {
   "cell_type": "markdown",
   "metadata": {},
   "source": [
    "## TODO: Phone Numbers\n",
    "Here the objective is to get the names and phone numbers of all individuals whose title is Ms\n",
    "\n",
    "Make a function `numbers_gen` that takes in a count `k` and returns a generator object  that yields `k` name, phone number tuples based on this objective.\n",
    "\n",
    "https://regex101.com/ is a handy tool to test if your expression is correct. Make sure to select Python as the language on the left!"
   ]
  },
  {
   "cell_type": "code",
   "execution_count": null,
   "metadata": {},
   "outputs": [],
   "source": []
  }
 ],
 "metadata": {
  "kernelspec": {
   "display_name": "demo_env",
   "language": "python",
   "name": "demo_env"
  },
  "language_info": {
   "codemirror_mode": {
    "name": "ipython",
    "version": 3
   },
   "file_extension": ".py",
   "mimetype": "text/x-python",
   "name": "python",
   "nbconvert_exporter": "python",
   "pygments_lexer": "ipython3",
   "version": "3.5.1"
  }
 },
 "nbformat": 4,
 "nbformat_minor": 2
}
